{
 "cells": [
  {
   "cell_type": "code",
   "execution_count": 1,
   "metadata": {},
   "outputs": [
    {
     "name": "stdout",
     "output_type": "stream",
     "text": [
      "Enter a number: 7\n",
      "Enter a number: 10\n",
      "Enter a number: bob\n",
      "Invalid input\n",
      "Enter a number: 4\n",
      "Enter a number: 2\n",
      "Enter a number: done\n",
      "Maximum is 10\n",
      "Minimum is 2\n"
     ]
    }
   ],
   "source": [
    "largest = -1\n",
    "smallest = None\n",
    "while True:\n",
    "   try: \n",
    "      num = input(\"Enter a number: \")\n",
    "      if num == \"done\" :\n",
    "          break\n",
    "     \n",
    "      n = int (num)\n",
    "      if n>largest:\n",
    "          largest = n\n",
    "      if smallest is None or smallest > n:\n",
    "          smallest = n\n",
    "   except :\n",
    "      print(\"Invalid input\")  \n",
    "        \n",
    "print(\"Maximum is\", largest)\n",
    "print(\"Minimum is\",smallest)"
   ]
  }
 ],
 "metadata": {
  "kernelspec": {
   "display_name": "Python 3",
   "language": "python",
   "name": "python3"
  },
  "language_info": {
   "codemirror_mode": {
    "name": "ipython",
    "version": 3
   },
   "file_extension": ".py",
   "mimetype": "text/x-python",
   "name": "python",
   "nbconvert_exporter": "python",
   "pygments_lexer": "ipython3",
   "version": "3.7.6"
  }
 },
 "nbformat": 4,
 "nbformat_minor": 4
}
