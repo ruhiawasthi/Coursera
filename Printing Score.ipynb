{
 "cells": [
  {
   "cell_type": "code",
   "execution_count": 2,
   "metadata": {},
   "outputs": [
    {
     "name": "stdout",
     "output_type": "stream",
     "text": [
      "Enter Score: 0.8\n",
      "B\n"
     ]
    }
   ],
   "source": [
    "ip = input(\"Enter Score: \")\n",
    "\n",
    "\n",
    "score= float(ip)\n",
    "if(score >= 1.0):\n",
    "    print(\"you didn't follow instructions\")\n",
    "    exit()\n",
    "elif(score >=0.9):\n",
    "     print(\"A\")\n",
    "elif(score >= 0.8):\n",
    "     print(\"B\")\n",
    "elif(score >= 0.7):\n",
    "     print(\"C\")\n",
    "elif(score >= 0.6):\n",
    "     print(\"D\")\n",
    "else:\n",
    "     print(\"F\")\n",
    "        \n",
    "        "
   ]
  }
 ],
 "metadata": {
  "kernelspec": {
   "display_name": "Python 3",
   "language": "python",
   "name": "python3"
  },
  "language_info": {
   "codemirror_mode": {
    "name": "ipython",
    "version": 3
   },
   "file_extension": ".py",
   "mimetype": "text/x-python",
   "name": "python",
   "nbconvert_exporter": "python",
   "pygments_lexer": "ipython3",
   "version": "3.7.6"
  }
 },
 "nbformat": 4,
 "nbformat_minor": 4
}
