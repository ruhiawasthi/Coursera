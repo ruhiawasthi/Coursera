{
 "cells": [
  {
   "cell_type": "code",
   "execution_count": 1,
   "metadata": {},
   "outputs": [
    {
     "name": "stdout",
     "output_type": "stream",
     "text": [
      "Enter hours :35\n",
      "Enter rate :2.75\n",
      "Pay: 96.25\n"
     ]
    }
   ],
   "source": [
    "hours = input('Enter hours :')\n",
    "rate  = input('Enter rate :')\n",
    "fhr   = float(hours)\n",
    "frate = float(rate)\n",
    "Pay   = fhr*frate\n",
    "print('Pay:', Pay)"
   ]
  }
 ],
 "metadata": {
  "kernelspec": {
   "display_name": "Python 3",
   "language": "python",
   "name": "python3"
  },
  "language_info": {
   "codemirror_mode": {
    "name": "ipython",
    "version": 3
   },
   "file_extension": ".py",
   "mimetype": "text/x-python",
   "name": "python",
   "nbconvert_exporter": "python",
   "pygments_lexer": "ipython3",
   "version": "3.7.6"
  }
 },
 "nbformat": 4,
 "nbformat_minor": 4
}
