{
 "cells": [
  {
   "cell_type": "code",
   "execution_count": 2,
   "metadata": {},
   "outputs": [
    {
     "name": "stdout",
     "output_type": "stream",
     "text": [
      "Enter Hours:45\n",
      "Enter rate:10.50\n",
      "498.75\n"
     ]
    }
   ],
   "source": [
    "hrs = input(\"Enter Hours:\")\n",
    "h = float(hrs)\n",
    "rate_hours = input(\"Enter rate:\")\n",
    "r = float(rate_hours)\n",
    "a = (h*r)\n",
    "b = (h-40)\n",
    "if h < 40:\n",
    "    pay = h*r\n",
    "else:\n",
    "    pay = a+b*r*0.5\n",
    "print(pay)    \n",
    "   "
   ]
  }
 ],
 "metadata": {
  "kernelspec": {
   "display_name": "Python 3",
   "language": "python",
   "name": "python3"
  }
 },
 "nbformat": 4,
 "nbformat_minor": 4
}
