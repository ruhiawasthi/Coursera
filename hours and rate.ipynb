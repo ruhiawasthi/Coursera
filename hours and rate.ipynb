{
 "cells": [
  {
   "cell_type": "code",
   "execution_count": 1,
   "metadata": {},
   "outputs": [
    {
     "name": "stdout",
     "output_type": "stream",
     "text": [
      "Enter Hours:45\n",
      "Enter rate:10.50\n",
      "Pay 498.75\n"
     ]
    }
   ],
   "source": [
    "\n",
    "def computepay(h,r):\n",
    "    if h<= 40:\n",
    "           return h*r\n",
    "    else:\n",
    "           return (40*r)+(h-40)*1.5*r\n",
    "    \n",
    "hrs = input('Enter Hours:')\n",
    "hr = float(hrs)\n",
    "rate = input('Enter rate:')\n",
    "rt = float(rate)\n",
    "\n",
    "pay = computepay(hr,rt)\n",
    "print(\"Pay\" ,pay)"
   ]
  }
 ],
 "metadata": {
  "kernelspec": {
   "display_name": "Python 3",
   "language": "python",
   "name": "python3"
  },
  "language_info": {
   "codemirror_mode": {
    "name": "ipython",
    "version": 3
   },
   "file_extension": ".py",
   "mimetype": "text/x-python",
   "name": "python",
   "nbconvert_exporter": "python",
   "pygments_lexer": "ipython3",
   "version": "3.7.6"
  }
 },
 "nbformat": 4,
 "nbformat_minor": 4
}
