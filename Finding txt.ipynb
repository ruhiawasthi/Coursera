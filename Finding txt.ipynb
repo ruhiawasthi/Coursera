{
 "cells": [
  {
   "cell_type": "code",
   "execution_count": 15,
   "metadata": {},
   "outputs": [
    {
     "name": "stdout",
     "output_type": "stream",
     "text": [
      "Enter file:finding.txt\n",
      "['From:', 'cwen@iupui.edu']\n",
      "cwen@iupui.edu 5\n"
     ]
    }
   ],
   "source": [
    "name = input(\"Enter file:\")\n",
    "if len(name) < 1 : name = \"finding.txt\"\n",
    "handle = open(name)\n",
    "\n",
    "#words = text.split()\n",
    "\n",
    "words = list()\n",
    "counts = dict()\n",
    "for line in handle:\n",
    "    if line.startswith(\"From:\") : \n",
    "        \n",
    "        words = line.split()\n",
    "        counts[words[1]] = counts.get(words[1], 0) +1 \n",
    "\n",
    "print(words)     \n",
    "maxval = None\n",
    "maxkey = None\n",
    "for key,val in counts.items() :\n",
    "    if maxval == None or val>maxval:\n",
    "      maxval = val\n",
    "      maxkey = key   \n",
    "\n",
    "print (maxkey, maxval)\n",
    "\n"
   ]
  }
 ],
 "metadata": {
  "kernelspec": {
   "display_name": "Python 3",
   "language": "python",
   "name": "python3"
  },
  "language_info": {
   "codemirror_mode": {
    "name": "ipython",
    "version": 3
   },
   "file_extension": ".py",
   "mimetype": "text/x-python",
   "name": "python",
   "nbconvert_exporter": "python",
   "pygments_lexer": "ipython3",
   "version": "3.7.6"
  }
 },
 "nbformat": 4,
 "nbformat_minor": 4
}
