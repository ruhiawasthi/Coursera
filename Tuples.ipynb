{
 "cells": [
  {
   "cell_type": "code",
   "execution_count": 1,
   "metadata": {},
   "outputs": [
    {
     "name": "stdout",
     "output_type": "stream",
     "text": [
      "Enter file:finding.txt\n",
      "04 3\n",
      "06 1\n",
      "07 1\n",
      "09 2\n",
      "10 3\n",
      "11 6\n",
      "14 1\n",
      "15 2\n",
      "16 4\n",
      "17 2\n",
      "18 1\n",
      "19 1\n"
     ]
    }
   ],
   "source": [
    "name = input(\"Enter file:\")\n",
    "if len(name) < 1 : name = \"finding.txt\"\n",
    "text = open(name)\n",
    "\n",
    "hours = dict()\n",
    "\n",
    "for line in text:\n",
    "    line.rstrip()\n",
    "    if not line.startswith(\"From \"): continue\n",
    "    words = line.split()\n",
    "\n",
    "    hour = words[5].split(\":\")\n",
    "    hours[hour[0]] = hours.get(hour[0],0) + 1\n",
    "\n",
    "lst = []\n",
    "\n",
    "for a,b in hours.items():\n",
    "    lst.append((a,b))\n",
    "\n",
    "lst.sort()\n",
    "\n",
    "\n",
    "for a,b in lst:\n",
    "    print (a,b)"
   ]
  }
 ],
 "metadata": {
  "kernelspec": {
   "display_name": "Python 3",
   "language": "python",
   "name": "python3"
  },
  "language_info": {
   "codemirror_mode": {
    "name": "ipython",
    "version": 3
   },
   "file_extension": ".py",
   "mimetype": "text/x-python",
   "name": "python",
   "nbconvert_exporter": "python",
   "pygments_lexer": "ipython3",
   "version": "3.7.6"
  }
 },
 "nbformat": 4,
 "nbformat_minor": 4
}
